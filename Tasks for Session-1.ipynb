{
 "cells": [
  {
   "cell_type": "markdown",
   "id": "6c9ef7ca",
   "metadata": {
    "deletable": false,
    "editable": false
   },
   "source": [
    "<a href=\"https://clarusway.com/contact-us/\"><img align=\"center\" src=\"https://i.ibb.co/B43qn24/officially-licensed-logo.png\" alt=\"Open in Clarusway LMS\" width=\"110\" height=\"200\" title=\"This notebook is licensed by Clarusway IT training school. Please contact the authorized persons about the conditions under which you can use or share.\"></a>"
   ]
  },
  {
   "cell_type": "markdown",
   "id": "a487007e",
   "metadata": {
    "id": "wGIwWxbXrbsZ"
   },
   "source": [
    "# <p style=\"background-color:#9d4f8c; font-family:newtimeroman; color:#FFF9ED; font-size:150%; text-align:LEFT; border-radius:10px 10px;\">Tasks for Session-1</p>"
   ]
  },
  {
   "cell_type": "markdown",
   "id": "2d3b4cae",
   "metadata": {},
   "source": [
    "## Task 1 : Task: Random Matrix Generation and Operations:\n",
    "\n",
    "### 1a. Generate a 4x4 matrix filled with random values."
   ]
  },
  {
   "cell_type": "code",
   "execution_count": null,
   "id": "a868c845",
   "metadata": {},
   "outputs": [],
   "source": []
  },
  {
   "cell_type": "markdown",
   "id": "60485ee8",
   "metadata": {},
   "source": [
    "### 1b. Calculate the row sums of the matrix."
   ]
  },
  {
   "cell_type": "code",
   "execution_count": null,
   "id": "7c823f50",
   "metadata": {},
   "outputs": [],
   "source": []
  },
  {
   "cell_type": "markdown",
   "id": "3e1e7afb",
   "metadata": {},
   "source": [
    "### 1c. Calculate the column means of the matrix."
   ]
  },
  {
   "cell_type": "code",
   "execution_count": null,
   "id": "2b478357",
   "metadata": {},
   "outputs": [],
   "source": []
  },
  {
   "cell_type": "markdown",
   "id": "e80c281d",
   "metadata": {},
   "source": [
    "### 1d. Find the sum of the diagonal elements of the matrix."
   ]
  },
  {
   "cell_type": "code",
   "execution_count": null,
   "id": "42ab977a",
   "metadata": {},
   "outputs": [],
   "source": []
  },
  {
   "cell_type": "markdown",
   "id": "ac2ea67c",
   "metadata": {},
   "source": [
    "## Task 2: Array Sorting and Indexing:\n",
    "\n",
    "### 2a. Create an array of random numbers from 1 to 20."
   ]
  },
  {
   "cell_type": "code",
   "execution_count": null,
   "id": "dfe64687",
   "metadata": {},
   "outputs": [],
   "source": []
  },
  {
   "cell_type": "markdown",
   "id": "66185aa8",
   "metadata": {},
   "source": [
    "### 2b. Sort the array in descending order."
   ]
  },
  {
   "cell_type": "code",
   "execution_count": null,
   "id": "8dc5199f",
   "metadata": {},
   "outputs": [],
   "source": []
  },
  {
   "cell_type": "markdown",
   "id": "747496e7",
   "metadata": {},
   "source": [
    "### 2c. Find the minimum and maximum elements of the array."
   ]
  },
  {
   "cell_type": "code",
   "execution_count": null,
   "id": "287685fa",
   "metadata": {},
   "outputs": [],
   "source": []
  },
  {
   "cell_type": "markdown",
   "id": "50586a09",
   "metadata": {},
   "source": [
    "### 2d. Select the first half of the array (the first 10 elements) and reverse them."
   ]
  },
  {
   "cell_type": "code",
   "execution_count": null,
   "id": "6f06602e",
   "metadata": {},
   "outputs": [],
   "source": []
  },
  {
   "cell_type": "markdown",
   "id": "9562b807",
   "metadata": {},
   "source": [
    "## Task 3: Convert the Arrays:\n",
    "\n",
    "### 3a. Create an array with elements [-1, 0, 1, 2, 3]."
   ]
  },
  {
   "cell_type": "code",
   "execution_count": null,
   "id": "24dff028",
   "metadata": {},
   "outputs": [],
   "source": []
  },
  {
   "cell_type": "markdown",
   "id": "d70db02f",
   "metadata": {},
   "source": [
    "### 3b. Convert the array into a matrix and square each element."
   ]
  },
  {
   "cell_type": "code",
   "execution_count": null,
   "id": "ca57c1e6",
   "metadata": {},
   "outputs": [],
   "source": []
  },
  {
   "cell_type": "markdown",
   "id": "012014fd",
   "metadata": {},
   "source": [
    "### 3c. Convert the matrix back to a one-dimensional array."
   ]
  },
  {
   "cell_type": "code",
   "execution_count": null,
   "id": "5457ffe7",
   "metadata": {},
   "outputs": [],
   "source": []
  },
  {
   "cell_type": "markdown",
   "id": "02d026ae",
   "metadata": {},
   "source": [
    "### 3d. Convert each element of the array to its absolute value"
   ]
  },
  {
   "cell_type": "code",
   "execution_count": null,
   "id": "47de9640",
   "metadata": {},
   "outputs": [],
   "source": []
  },
  {
   "cell_type": "markdown",
   "id": "4008c104",
   "metadata": {
    "deletable": false,
    "editable": false
   },
   "source": [
    "<a href=\"https://clarusway.com/contact-us/\"><img align=\"center\" src=\"https://i.ibb.co/B43qn24/officially-licensed-logo.png\" alt=\"Open in Clarusway LMS\" width=\"110\" height=\"200\" title=\"This notebook is licensed by Clarusway IT training school. Please contact the authorized persons about the conditions under which you can use or share.\"></a>"
   ]
  }
 ],
 "metadata": {
  "kernelspec": {
   "display_name": "Python 3 (ipykernel)",
   "language": "python",
   "name": "python3"
  },
  "language_info": {
   "codemirror_mode": {
    "name": "ipython",
    "version": 3
   },
   "file_extension": ".py",
   "mimetype": "text/x-python",
   "name": "python",
   "nbconvert_exporter": "python",
   "pygments_lexer": "ipython3",
   "version": "3.11.5"
  },
  "toc": {
   "base_numbering": 1,
   "nav_menu": {},
   "number_sections": false,
   "sideBar": true,
   "skip_h1_title": false,
   "title_cell": "Table of Contents",
   "title_sidebar": "Contents",
   "toc_cell": false,
   "toc_position": {},
   "toc_section_display": true,
   "toc_window_display": true
  },
  "varInspector": {
   "cols": {
    "lenName": 16,
    "lenType": 16,
    "lenVar": 40
   },
   "kernels_config": {
    "python": {
     "delete_cmd_postfix": "",
     "delete_cmd_prefix": "del ",
     "library": "var_list.py",
     "varRefreshCmd": "print(var_dic_list())"
    },
    "r": {
     "delete_cmd_postfix": ") ",
     "delete_cmd_prefix": "rm(",
     "library": "var_list.r",
     "varRefreshCmd": "cat(var_dic_list()) "
    }
   },
   "types_to_exclude": [
    "module",
    "function",
    "builtin_function_or_method",
    "instance",
    "_Feature"
   ],
   "window_display": false
  }
 },
 "nbformat": 4,
 "nbformat_minor": 5
}
