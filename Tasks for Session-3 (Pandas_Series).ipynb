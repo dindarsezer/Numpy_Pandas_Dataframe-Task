{
 "cells": [
  {
   "cell_type": "markdown",
   "id": "075979fa",
   "metadata": {},
   "source": [
    "# Tasks for Session-3 (Pandas_Series)"
   ]
  },
  {
   "cell_type": "code",
   "execution_count": 14,
   "id": "092cf991",
   "metadata": {},
   "outputs": [],
   "source": [
    "import numpy as np\n",
    "import pandas as pd"
   ]
  },
  {
   "cell_type": "markdown",
   "id": "56e0dc7e",
   "metadata": {},
   "source": [
    "## Task1: \n",
    "**Develop a program that allows entering student numbers and grades in a university, and then calculates the `count`, `sum`, `maximum`, `minimum`, and average of the entered grades.**<br>\n",
    "**Store the student numbers and grades in a pandas Series called `students`**"
   ]
  },
  {
   "cell_type": "code",
   "execution_count": null,
   "id": "01735940",
   "metadata": {},
   "outputs": [],
   "source": []
  },
  {
   "cell_type": "markdown",
   "id": "c28ad924",
   "metadata": {},
   "source": [
    "## Task2:\n",
    "**Write a program that uses conditional selection to create a new Series,**\n",
    "where grades greater than 95 are classified as 'A+',<br>\n",
    "grades between 90 and 95 (inclusive) are classified as 'A',<br>\n",
    "grades between 85 and 90 (exclusive) are classified as 'B+',<br>\n",
    "grades between 80 and 85 (exclusive) are classified as 'B',<br>\n",
    "grades between 75 and 80 (inclusive) are classified as 'C+',<br>\n",
    "grades between 70 and 75 (inclusive) are classified as 'C',<br>\n",
    "grades between 60 and 70 (inclusive) are classified as 'D',<br>\n",
    "and grades less than 60 are classified as 'E'.**"
   ]
  },
  {
   "cell_type": "code",
   "execution_count": null,
   "id": "05ff2509",
   "metadata": {},
   "outputs": [],
   "source": []
  },
  {
   "cell_type": "code",
   "execution_count": null,
   "id": "9e5a2616",
   "metadata": {},
   "outputs": [],
   "source": []
  },
  {
   "cell_type": "markdown",
   "id": "5ada768d",
   "metadata": {},
   "source": [
    "## Task3:\n",
    "\n",
    "**Solve the same task using the `np.select()` function.**"
   ]
  },
  {
   "cell_type": "code",
   "execution_count": null,
   "id": "be167fd0",
   "metadata": {},
   "outputs": [],
   "source": []
  },
  {
   "cell_type": "markdown",
   "id": "915d73e6",
   "metadata": {},
   "source": [
    "## Task4:\n",
    "\n",
    "**a: Create a function named `map_grades` that takes a list of grades as input and returns the corresponding grade categories (A+, A, B+, B, C+, C, D, and E) based on the specified intervals.**\n",
    "\n",
    "**b. Solve the same task by using the map_grades() user-defined function within the `map()` function.**\n",
    "\n",
    "**c. Solve the same task by using the map_grades() user-defined function within the `apply()` function**."
   ]
  },
  {
   "cell_type": "code",
   "execution_count": null,
   "id": "ec020a75",
   "metadata": {},
   "outputs": [],
   "source": []
  },
  {
   "cell_type": "code",
   "execution_count": null,
   "id": "21a16d5a",
   "metadata": {},
   "outputs": [],
   "source": []
  },
  {
   "cell_type": "code",
   "execution_count": null,
   "id": "049f1a41",
   "metadata": {},
   "outputs": [],
   "source": []
  }
 ],
 "metadata": {
  "kernelspec": {
   "display_name": "Python 3 (ipykernel)",
   "language": "python",
   "name": "python3"
  },
  "language_info": {
   "codemirror_mode": {
    "name": "ipython",
    "version": 3
   },
   "file_extension": ".py",
   "mimetype": "text/x-python",
   "name": "python",
   "nbconvert_exporter": "python",
   "pygments_lexer": "ipython3",
   "version": "3.9.12"
  }
 },
 "nbformat": 4,
 "nbformat_minor": 5
}
